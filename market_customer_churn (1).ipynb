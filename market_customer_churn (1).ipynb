{
  "nbformat": 4,
  "nbformat_minor": 5,
  "metadata": {
    "kernelspec": {
      "display_name": "Python 3",
      "language": "python",
      "name": "python3"
    },
    "language_info": {
      "codemirror_mode": {
        "name": "ipython",
        "version": 3
      },
      "file_extension": ".py",
      "mimetype": "text/x-python",
      "name": "python",
      "nbconvert_exporter": "python",
      "pygments_lexer": "ipython3",
      "version": "3.7.9"
    },
    "colab": {
      "name": "market_customer_churn.ipynb",
      "provenance": [],
      "collapsed_sections": [
        "acquired-phrase",
        "informational-transaction",
        "satisfactory-affiliate",
        "pursuant-jersey",
        "h3NJk_-ho71Q"
      ]
    },
    "accelerator": "GPU"
  },
  "cells": [
    {
      "cell_type": "code",
      "metadata": {
        "id": "Vm2IZiV1UJff"
      },
      "source": [
        "!pip install catboost --quiet"
      ],
      "id": "Vm2IZiV1UJff",
      "execution_count": 496,
      "outputs": []
    },
    {
      "cell_type": "code",
      "metadata": {
        "id": "changed-narrow"
      },
      "source": [
        "import numpy as np\n",
        "import pandas as pd\n",
        "import matplotlib.pyplot as plt\n",
        "import seaborn as sns\n",
        "from sklearn.preprocessing import StandardScaler,OrdinalEncoder\n",
        "from sklearn.model_selection import train_test_split\n",
        "from sklearn.linear_model import LogisticRegression\n",
        "from sklearn.impute import KNNImputer\n",
        "from sklearn.ensemble import RandomForestClassifier,AdaBoostClassifier\n",
        "from xgboost import XGBClassifier\n",
        "from sklearn.svm import SVC\n",
        "from sklearn.neighbors import KNeighborsClassifier\n",
        "from sklearn.tree import ExtraTreeClassifier\n",
        "from sklearn.metrics import accuracy_score,confusion_matrix,classification_report,f1_score\n",
        "from scipy.stats import iqr\n",
        "import requests\n",
        "from catboost import CatBoostClassifier \n",
        "\n",
        "import warnings\n",
        "\n",
        "warnings.filterwarnings('ignore')\n",
        "np.set_printoptions(suppress=True)"
      ],
      "id": "changed-narrow",
      "execution_count": 497,
      "outputs": []
    },
    {
      "cell_type": "code",
      "metadata": {
        "colab": {
          "base_uri": "https://localhost:8080/",
          "height": 360
        },
        "id": "executed-municipality",
        "outputId": "3f5cdf6c-0aec-4542-9af3-06503b5b2050"
      },
      "source": [
        "df = pd.read_csv('./dataset/train1.csv')\n",
        "test_df = pd.read_csv('./dataset/test1.csv')\n",
        "df.head()"
      ],
      "id": "executed-municipality",
      "execution_count": 498,
      "outputs": [
        {
          "output_type": "execute_result",
          "data": {
            "text/html": [
              "<div>\n",
              "<style scoped>\n",
              "    .dataframe tbody tr th:only-of-type {\n",
              "        vertical-align: middle;\n",
              "    }\n",
              "\n",
              "    .dataframe tbody tr th {\n",
              "        vertical-align: top;\n",
              "    }\n",
              "\n",
              "    .dataframe thead th {\n",
              "        text-align: right;\n",
              "    }\n",
              "</style>\n",
              "<table border=\"1\" class=\"dataframe\">\n",
              "  <thead>\n",
              "    <tr style=\"text-align: right;\">\n",
              "      <th></th>\n",
              "      <th>Unnamed: 0</th>\n",
              "      <th>customer_id</th>\n",
              "      <th>Name</th>\n",
              "      <th>age</th>\n",
              "      <th>gender</th>\n",
              "      <th>security_no</th>\n",
              "      <th>region_category</th>\n",
              "      <th>membership_category</th>\n",
              "      <th>joining_date</th>\n",
              "      <th>joined_through_referral</th>\n",
              "      <th>referral_id</th>\n",
              "      <th>preferred_offer_types</th>\n",
              "      <th>medium_of_operation</th>\n",
              "      <th>internet_option</th>\n",
              "      <th>last_visit_time</th>\n",
              "      <th>days_since_last_login</th>\n",
              "      <th>avg_time_spent</th>\n",
              "      <th>avg_transaction_value</th>\n",
              "      <th>avg_frequency_login_days</th>\n",
              "      <th>points_in_wallet</th>\n",
              "      <th>used_special_discount</th>\n",
              "      <th>offer_application_preference</th>\n",
              "      <th>past_complaint</th>\n",
              "      <th>complaint_status</th>\n",
              "      <th>feedback</th>\n",
              "      <th>churn_risk_score</th>\n",
              "    </tr>\n",
              "  </thead>\n",
              "  <tbody>\n",
              "    <tr>\n",
              "      <th>0</th>\n",
              "      <td>0</td>\n",
              "      <td>fffe4300490044003600300030003800</td>\n",
              "      <td>Pattie Morrisey</td>\n",
              "      <td>18</td>\n",
              "      <td>F</td>\n",
              "      <td>XW0DQ7H</td>\n",
              "      <td>Village</td>\n",
              "      <td>Platinum Membership</td>\n",
              "      <td>2017-08-17</td>\n",
              "      <td>No</td>\n",
              "      <td>xxxxxxxx</td>\n",
              "      <td>Gift Vouchers/Coupons</td>\n",
              "      <td>?</td>\n",
              "      <td>Wi-Fi</td>\n",
              "      <td>16:08:02</td>\n",
              "      <td>17</td>\n",
              "      <td>300.63</td>\n",
              "      <td>53005.25</td>\n",
              "      <td>17.0</td>\n",
              "      <td>781.75</td>\n",
              "      <td>Yes</td>\n",
              "      <td>Yes</td>\n",
              "      <td>No</td>\n",
              "      <td>Not Applicable</td>\n",
              "      <td>Products always in Stock</td>\n",
              "      <td>2</td>\n",
              "    </tr>\n",
              "    <tr>\n",
              "      <th>1</th>\n",
              "      <td>1</td>\n",
              "      <td>fffe43004900440032003100300035003700</td>\n",
              "      <td>Traci Peery</td>\n",
              "      <td>32</td>\n",
              "      <td>F</td>\n",
              "      <td>5K0N3X1</td>\n",
              "      <td>City</td>\n",
              "      <td>Premium Membership</td>\n",
              "      <td>2017-08-28</td>\n",
              "      <td>?</td>\n",
              "      <td>CID21329</td>\n",
              "      <td>Gift Vouchers/Coupons</td>\n",
              "      <td>Desktop</td>\n",
              "      <td>Mobile_Data</td>\n",
              "      <td>12:38:13</td>\n",
              "      <td>16</td>\n",
              "      <td>306.34</td>\n",
              "      <td>12838.38</td>\n",
              "      <td>10.0</td>\n",
              "      <td>NaN</td>\n",
              "      <td>Yes</td>\n",
              "      <td>No</td>\n",
              "      <td>Yes</td>\n",
              "      <td>Solved</td>\n",
              "      <td>Quality Customer Care</td>\n",
              "      <td>1</td>\n",
              "    </tr>\n",
              "    <tr>\n",
              "      <th>2</th>\n",
              "      <td>2</td>\n",
              "      <td>fffe4300490044003100390032003600</td>\n",
              "      <td>Merideth Mcmeen</td>\n",
              "      <td>44</td>\n",
              "      <td>F</td>\n",
              "      <td>1F2TCL3</td>\n",
              "      <td>Town</td>\n",
              "      <td>No Membership</td>\n",
              "      <td>2016-11-11</td>\n",
              "      <td>Yes</td>\n",
              "      <td>CID12313</td>\n",
              "      <td>Gift Vouchers/Coupons</td>\n",
              "      <td>Desktop</td>\n",
              "      <td>Wi-Fi</td>\n",
              "      <td>22:53:21</td>\n",
              "      <td>14</td>\n",
              "      <td>516.16</td>\n",
              "      <td>21027.00</td>\n",
              "      <td>22.0</td>\n",
              "      <td>500.69</td>\n",
              "      <td>No</td>\n",
              "      <td>Yes</td>\n",
              "      <td>Yes</td>\n",
              "      <td>Solved in Follow-up</td>\n",
              "      <td>Poor Website</td>\n",
              "      <td>5</td>\n",
              "    </tr>\n",
              "    <tr>\n",
              "      <th>3</th>\n",
              "      <td>3</td>\n",
              "      <td>fffe43004900440036003000330031003600</td>\n",
              "      <td>Eufemia Cardwell</td>\n",
              "      <td>37</td>\n",
              "      <td>M</td>\n",
              "      <td>VJGJ33N</td>\n",
              "      <td>City</td>\n",
              "      <td>No Membership</td>\n",
              "      <td>2016-10-29</td>\n",
              "      <td>Yes</td>\n",
              "      <td>CID3793</td>\n",
              "      <td>Gift Vouchers/Coupons</td>\n",
              "      <td>Desktop</td>\n",
              "      <td>Mobile_Data</td>\n",
              "      <td>15:57:50</td>\n",
              "      <td>11</td>\n",
              "      <td>53.27</td>\n",
              "      <td>25239.56</td>\n",
              "      <td>6.0</td>\n",
              "      <td>567.66</td>\n",
              "      <td>No</td>\n",
              "      <td>Yes</td>\n",
              "      <td>Yes</td>\n",
              "      <td>Unsolved</td>\n",
              "      <td>Poor Website</td>\n",
              "      <td>5</td>\n",
              "    </tr>\n",
              "    <tr>\n",
              "      <th>4</th>\n",
              "      <td>4</td>\n",
              "      <td>fffe43004900440031003900350030003600</td>\n",
              "      <td>Meghan Kosak</td>\n",
              "      <td>31</td>\n",
              "      <td>F</td>\n",
              "      <td>SVZXCWB</td>\n",
              "      <td>City</td>\n",
              "      <td>No Membership</td>\n",
              "      <td>2017-09-12</td>\n",
              "      <td>No</td>\n",
              "      <td>xxxxxxxx</td>\n",
              "      <td>Credit/Debit Card Offers</td>\n",
              "      <td>Smartphone</td>\n",
              "      <td>Mobile_Data</td>\n",
              "      <td>15:46:44</td>\n",
              "      <td>20</td>\n",
              "      <td>113.13</td>\n",
              "      <td>24483.66</td>\n",
              "      <td>16.0</td>\n",
              "      <td>663.06</td>\n",
              "      <td>No</td>\n",
              "      <td>Yes</td>\n",
              "      <td>Yes</td>\n",
              "      <td>Solved</td>\n",
              "      <td>Poor Website</td>\n",
              "      <td>5</td>\n",
              "    </tr>\n",
              "  </tbody>\n",
              "</table>\n",
              "</div>"
            ],
            "text/plain": [
              "   Unnamed: 0  ... churn_risk_score\n",
              "0           0  ...                2\n",
              "1           1  ...                1\n",
              "2           2  ...                5\n",
              "3           3  ...                5\n",
              "4           4  ...                5\n",
              "\n",
              "[5 rows x 26 columns]"
            ]
          },
          "metadata": {
            "tags": []
          },
          "execution_count": 498
        }
      ]
    },
    {
      "cell_type": "code",
      "metadata": {
        "colab": {
          "base_uri": "https://localhost:8080/"
        },
        "id": "communist-substance",
        "outputId": "83c871cb-f3d2-4239-c9f5-26c89f0dec2a"
      },
      "source": [
        "df.info()"
      ],
      "id": "communist-substance",
      "execution_count": 499,
      "outputs": [
        {
          "output_type": "stream",
          "text": [
            "<class 'pandas.core.frame.DataFrame'>\n",
            "RangeIndex: 36992 entries, 0 to 36991\n",
            "Data columns (total 26 columns):\n",
            " #   Column                        Non-Null Count  Dtype  \n",
            "---  ------                        --------------  -----  \n",
            " 0   Unnamed: 0                    36992 non-null  int64  \n",
            " 1   customer_id                   36992 non-null  object \n",
            " 2   Name                          36992 non-null  object \n",
            " 3   age                           36992 non-null  int64  \n",
            " 4   gender                        36992 non-null  object \n",
            " 5   security_no                   36992 non-null  object \n",
            " 6   region_category               31564 non-null  object \n",
            " 7   membership_category           36992 non-null  object \n",
            " 8   joining_date                  36992 non-null  object \n",
            " 9   joined_through_referral       36992 non-null  object \n",
            " 10  referral_id                   36992 non-null  object \n",
            " 11  preferred_offer_types         36704 non-null  object \n",
            " 12  medium_of_operation           36992 non-null  object \n",
            " 13  internet_option               36992 non-null  object \n",
            " 14  last_visit_time               36992 non-null  object \n",
            " 15  days_since_last_login         36992 non-null  int64  \n",
            " 16  avg_time_spent                36992 non-null  float64\n",
            " 17  avg_transaction_value         36992 non-null  float64\n",
            " 18  avg_frequency_login_days      36992 non-null  object \n",
            " 19  points_in_wallet              33549 non-null  float64\n",
            " 20  used_special_discount         36992 non-null  object \n",
            " 21  offer_application_preference  36992 non-null  object \n",
            " 22  past_complaint                36992 non-null  object \n",
            " 23  complaint_status              36992 non-null  object \n",
            " 24  feedback                      36992 non-null  object \n",
            " 25  churn_risk_score              36992 non-null  int64  \n",
            "dtypes: float64(3), int64(4), object(19)\n",
            "memory usage: 7.3+ MB\n"
          ],
          "name": "stdout"
        }
      ]
    },
    {
      "cell_type": "code",
      "metadata": {
        "colab": {
          "base_uri": "https://localhost:8080/",
          "height": 297
        },
        "id": "arctic-novelty",
        "outputId": "69842540-73a6-4c1c-ebfc-830a4453daec"
      },
      "source": [
        "df.describe()"
      ],
      "id": "arctic-novelty",
      "execution_count": 500,
      "outputs": [
        {
          "output_type": "execute_result",
          "data": {
            "text/html": [
              "<div>\n",
              "<style scoped>\n",
              "    .dataframe tbody tr th:only-of-type {\n",
              "        vertical-align: middle;\n",
              "    }\n",
              "\n",
              "    .dataframe tbody tr th {\n",
              "        vertical-align: top;\n",
              "    }\n",
              "\n",
              "    .dataframe thead th {\n",
              "        text-align: right;\n",
              "    }\n",
              "</style>\n",
              "<table border=\"1\" class=\"dataframe\">\n",
              "  <thead>\n",
              "    <tr style=\"text-align: right;\">\n",
              "      <th></th>\n",
              "      <th>Unnamed: 0</th>\n",
              "      <th>age</th>\n",
              "      <th>days_since_last_login</th>\n",
              "      <th>avg_time_spent</th>\n",
              "      <th>avg_transaction_value</th>\n",
              "      <th>points_in_wallet</th>\n",
              "      <th>churn_risk_score</th>\n",
              "    </tr>\n",
              "  </thead>\n",
              "  <tbody>\n",
              "    <tr>\n",
              "      <th>count</th>\n",
              "      <td>36992.000000</td>\n",
              "      <td>36992.000000</td>\n",
              "      <td>36992.000000</td>\n",
              "      <td>36992.000000</td>\n",
              "      <td>36992.000000</td>\n",
              "      <td>33549.000000</td>\n",
              "      <td>36992.000000</td>\n",
              "    </tr>\n",
              "    <tr>\n",
              "      <th>mean</th>\n",
              "      <td>18495.500000</td>\n",
              "      <td>37.118161</td>\n",
              "      <td>-41.915576</td>\n",
              "      <td>243.472334</td>\n",
              "      <td>29271.194003</td>\n",
              "      <td>686.882199</td>\n",
              "      <td>3.463397</td>\n",
              "    </tr>\n",
              "    <tr>\n",
              "      <th>std</th>\n",
              "      <td>10678.814916</td>\n",
              "      <td>15.867412</td>\n",
              "      <td>228.819900</td>\n",
              "      <td>398.289149</td>\n",
              "      <td>19444.806226</td>\n",
              "      <td>194.063624</td>\n",
              "      <td>1.409661</td>\n",
              "    </tr>\n",
              "    <tr>\n",
              "      <th>min</th>\n",
              "      <td>0.000000</td>\n",
              "      <td>10.000000</td>\n",
              "      <td>-999.000000</td>\n",
              "      <td>-2814.109110</td>\n",
              "      <td>800.460000</td>\n",
              "      <td>-760.661236</td>\n",
              "      <td>-1.000000</td>\n",
              "    </tr>\n",
              "    <tr>\n",
              "      <th>25%</th>\n",
              "      <td>9247.750000</td>\n",
              "      <td>23.000000</td>\n",
              "      <td>8.000000</td>\n",
              "      <td>60.102500</td>\n",
              "      <td>14177.540000</td>\n",
              "      <td>616.150000</td>\n",
              "      <td>3.000000</td>\n",
              "    </tr>\n",
              "    <tr>\n",
              "      <th>50%</th>\n",
              "      <td>18495.500000</td>\n",
              "      <td>37.000000</td>\n",
              "      <td>12.000000</td>\n",
              "      <td>161.765000</td>\n",
              "      <td>27554.485000</td>\n",
              "      <td>697.620000</td>\n",
              "      <td>4.000000</td>\n",
              "    </tr>\n",
              "    <tr>\n",
              "      <th>75%</th>\n",
              "      <td>27743.250000</td>\n",
              "      <td>51.000000</td>\n",
              "      <td>16.000000</td>\n",
              "      <td>356.515000</td>\n",
              "      <td>40855.110000</td>\n",
              "      <td>763.950000</td>\n",
              "      <td>5.000000</td>\n",
              "    </tr>\n",
              "    <tr>\n",
              "      <th>max</th>\n",
              "      <td>36991.000000</td>\n",
              "      <td>64.000000</td>\n",
              "      <td>26.000000</td>\n",
              "      <td>3235.578521</td>\n",
              "      <td>99914.050000</td>\n",
              "      <td>2069.069761</td>\n",
              "      <td>5.000000</td>\n",
              "    </tr>\n",
              "  </tbody>\n",
              "</table>\n",
              "</div>"
            ],
            "text/plain": [
              "         Unnamed: 0           age  ...  points_in_wallet  churn_risk_score\n",
              "count  36992.000000  36992.000000  ...      33549.000000      36992.000000\n",
              "mean   18495.500000     37.118161  ...        686.882199          3.463397\n",
              "std    10678.814916     15.867412  ...        194.063624          1.409661\n",
              "min        0.000000     10.000000  ...       -760.661236         -1.000000\n",
              "25%     9247.750000     23.000000  ...        616.150000          3.000000\n",
              "50%    18495.500000     37.000000  ...        697.620000          4.000000\n",
              "75%    27743.250000     51.000000  ...        763.950000          5.000000\n",
              "max    36991.000000     64.000000  ...       2069.069761          5.000000\n",
              "\n",
              "[8 rows x 7 columns]"
            ]
          },
          "metadata": {
            "tags": []
          },
          "execution_count": 500
        }
      ]
    },
    {
      "cell_type": "markdown",
      "metadata": {
        "id": "b2sxYbA8IR_w"
      },
      "source": [
        "#### Conclusion from the above table:\n",
        "1. *age* field looks good and don't have any outliers. But the minimum age is 10 so it can be analysed further if required.\n",
        "2. *days_since_last_login* field has many missing values (-999) and also have negative values  which needs to be handled further.\n",
        "3. *avg_time_spent* field also have negative values which also needs to be handled properly.\n",
        "4. *avg_transaction_value* field looks good too.\n",
        "5. *points_in_wallet* have negative values which needs to be handled appropriately.\n",
        "6. *churn_risk_score* has also value as -1 which needs to be handled further."
      ],
      "id": "b2sxYbA8IR_w"
    },
    {
      "cell_type": "code",
      "metadata": {
        "colab": {
          "base_uri": "https://localhost:8080/"
        },
        "id": "stuffed-banner",
        "outputId": "8b1a7eb7-0494-492c-beef-c200449ab64c"
      },
      "source": [
        "#Check for null values\n",
        "na_dict = dict(df.isna().sum())\n",
        "dct_new = {}\n",
        "for i in na_dict.items():\n",
        "  if i[1]!=0:\n",
        "    dct_new[i[0]] = i[1]\n",
        "print(dct_new)"
      ],
      "id": "stuffed-banner",
      "execution_count": 501,
      "outputs": [
        {
          "output_type": "stream",
          "text": [
            "{'region_category': 5428, 'preferred_offer_types': 288, 'points_in_wallet': 3443}\n"
          ],
          "name": "stdout"
        }
      ]
    },
    {
      "cell_type": "markdown",
      "metadata": {
        "id": "analyzed-swimming"
      },
      "source": [
        "## Exploratory Data Analysis"
      ],
      "id": "analyzed-swimming"
    },
    {
      "cell_type": "code",
      "metadata": {
        "colab": {
          "base_uri": "https://localhost:8080/"
        },
        "id": "medical-blogger",
        "outputId": "625ec231-983c-4517-f2c7-8d0062afd449"
      },
      "source": [
        "min_age = df['age'].min()\n",
        "max_age = df['age'].max()\n",
        "print('Min age of customer is {} and max age is {}'.format(min_age,max_age))"
      ],
      "id": "medical-blogger",
      "execution_count": 502,
      "outputs": [
        {
          "output_type": "stream",
          "text": [
            "Min age of customer is 10 and max age is 64\n"
          ],
          "name": "stdout"
        }
      ]
    },
    {
      "cell_type": "code",
      "metadata": {
        "colab": {
          "base_uri": "https://localhost:8080/",
          "height": 142
        },
        "id": "nervous-complaint",
        "outputId": "b6401d7c-47c6-466a-89f1-d783f6b8c827"
      },
      "source": [
        "age_groups = pd.cut(df['age'],bins=[10,25,64])\n",
        "pd.crosstab(age_groups,df['churn_risk_score'])"
      ],
      "id": "nervous-complaint",
      "execution_count": 503,
      "outputs": [
        {
          "output_type": "execute_result",
          "data": {
            "text/html": [
              "<div>\n",
              "<style scoped>\n",
              "    .dataframe tbody tr th:only-of-type {\n",
              "        vertical-align: middle;\n",
              "    }\n",
              "\n",
              "    .dataframe tbody tr th {\n",
              "        vertical-align: top;\n",
              "    }\n",
              "\n",
              "    .dataframe thead th {\n",
              "        text-align: right;\n",
              "    }\n",
              "</style>\n",
              "<table border=\"1\" class=\"dataframe\">\n",
              "  <thead>\n",
              "    <tr style=\"text-align: right;\">\n",
              "      <th>churn_risk_score</th>\n",
              "      <th>-1</th>\n",
              "      <th>1</th>\n",
              "      <th>2</th>\n",
              "      <th>3</th>\n",
              "      <th>4</th>\n",
              "      <th>5</th>\n",
              "    </tr>\n",
              "    <tr>\n",
              "      <th>age</th>\n",
              "      <th></th>\n",
              "      <th></th>\n",
              "      <th></th>\n",
              "      <th></th>\n",
              "      <th></th>\n",
              "      <th></th>\n",
              "    </tr>\n",
              "  </thead>\n",
              "  <tbody>\n",
              "    <tr>\n",
              "      <th>(10, 25]</th>\n",
              "      <td>322</td>\n",
              "      <td>688</td>\n",
              "      <td>756</td>\n",
              "      <td>2850</td>\n",
              "      <td>2752</td>\n",
              "      <td>2564</td>\n",
              "    </tr>\n",
              "    <tr>\n",
              "      <th>(25, 64]</th>\n",
              "      <td>820</td>\n",
              "      <td>1933</td>\n",
              "      <td>1923</td>\n",
              "      <td>7368</td>\n",
              "      <td>7270</td>\n",
              "      <td>7076</td>\n",
              "    </tr>\n",
              "  </tbody>\n",
              "</table>\n",
              "</div>"
            ],
            "text/plain": [
              "churn_risk_score   -1     1     2     3     4     5\n",
              "age                                                \n",
              "(10, 25]          322   688   756  2850  2752  2564\n",
              "(25, 64]          820  1933  1923  7368  7270  7076"
            ]
          },
          "metadata": {
            "tags": []
          },
          "execution_count": 503
        }
      ]
    },
    {
      "cell_type": "markdown",
      "metadata": {
        "id": "grand-moment"
      },
      "source": [
        "#### Age grouping is done based on the employement"
      ],
      "id": "grand-moment"
    },
    {
      "cell_type": "code",
      "metadata": {
        "colab": {
          "base_uri": "https://localhost:8080/",
          "height": 296
        },
        "id": "stainless-painting",
        "outputId": "0ab7b313-a201-409d-80cd-72995c05891a"
      },
      "source": [
        "sns.countplot(df['gender'],hue=df['churn_risk_score'])"
      ],
      "id": "stainless-painting",
      "execution_count": 504,
      "outputs": [
        {
          "output_type": "execute_result",
          "data": {
            "text/plain": [
              "<matplotlib.axes._subplots.AxesSubplot at 0x7f904b722410>"
            ]
          },
          "metadata": {
            "tags": []
          },
          "execution_count": 504
        },
        {
          "output_type": "display_data",
          "data": {
            "image/png": "[encoded data removed]",
            "text/plain": [
              "<Figure size 432x288 with 1 Axes>"
            ]
          },
          "metadata": {
            "tags": [],
            "needs_background": "light"
          }
        }
      ]
    },
    {
      "cell_type": "markdown",
      "metadata": {
        "id": "based-executive"
      },
      "source": [
        "#### Gender also has some missing values as here we can see the unknown values"
      ],
      "id": "based-executive"
    },
    {
      "cell_type": "code",
      "metadata": {
        "colab": {
          "base_uri": "https://localhost:8080/"
        },
        "id": "speaking-floating",
        "outputId": "867b37b3-53eb-4c8d-b68e-b34890c53496"
      },
      "source": [
        "print('Total Unknown values in gender {}'.format(df[df['gender'].isin(['Unknown'])]['gender'].count()))"
      ],
      "id": "speaking-floating",
      "execution_count": 505,
      "outputs": [
        {
          "output_type": "stream",
          "text": [
            "Total Unknown values in gender 0\n"
          ],
          "name": "stdout"
        }
      ]
    },
    {
      "cell_type": "code",
      "metadata": {
        "colab": {
          "base_uri": "https://localhost:8080/",
          "height": 297
        },
        "id": "greater-rates",
        "outputId": "ae49eb9e-d162-4045-ff74-b2a3ddf9c1e4"
      },
      "source": [
        "sns.countplot(df['region_category'],hue=df['churn_risk_score'])"
      ],
      "id": "greater-rates",
      "execution_count": 506,
      "outputs": [
        {
          "output_type": "execute_result",
          "data": {
            "text/plain": [
              "<matplotlib.axes._subplots.AxesSubplot at 0x7f9061589210>"
            ]
          },
          "metadata": {
            "tags": []
          },
          "execution_count": 506
        },
        {
          "output_type": "display_data",
          "data": {
            "image/png": "[encoded data removed]",
            "text/plain": [
              "<Figure size 432x288 with 1 Axes>"
            ]
          },
          "metadata": {
            "tags": [],
            "needs_background": "light"
          }
        }
      ]
    },
    {
      "cell_type": "markdown",
      "metadata": {
        "id": "capable-healthcare"
      },
      "source": [
        "#### We can see that city and town has high risk\n",
        "#### This also has missing values which needs to be imputed further"
      ],
      "id": "capable-healthcare"
    },
    {
      "cell_type": "code",
      "metadata": {
        "colab": {
          "base_uri": "https://localhost:8080/",
          "height": 406
        },
        "id": "durable-keyboard",
        "outputId": "039aab69-7cac-4bfe-83d4-0b6e502524aa"
      },
      "source": [
        "fig,ax = plt.subplots(figsize=(12,6))\n",
        "sns.countplot(df['membership_category'],hue=df['region_category'],ax=ax)"
      ],
      "id": "durable-keyboard",
      "execution_count": 507,
      "outputs": [
        {
          "output_type": "execute_result",
          "data": {
            "text/plain": [
              "<matplotlib.axes._subplots.AxesSubplot at 0x7f904b63cbd0>"
            ]
          },
          "metadata": {
            "tags": []
          },
          "execution_count": 507
        },
        {
          "output_type": "display_data",
          "data": {
            "image/png": "[encoded data removed]",
            "text/plain": [
              "<Figure size 864x432 with 1 Axes>"
            ]
          },
          "metadata": {
            "tags": [],
            "needs_background": "light"
          }
        }
      ]
    },
    {
      "cell_type": "markdown",
      "metadata": {
        "id": "acquired-phrase"
      },
      "source": [
        "#### Type of memberships based on the locations/regions"
      ],
      "id": "acquired-phrase"
    },
    {
      "cell_type": "code",
      "metadata": {
        "colab": {
          "base_uri": "https://localhost:8080/",
          "height": 0
        },
        "id": "single-georgia",
        "outputId": "96154c77-7400-40c7-e34f-711178cc0e8f"
      },
      "source": [
        "fig,ax = plt.subplots(figsize=(12,6))\n",
        "sns.countplot(df[df['region_category'].isna()]['membership_category'],ax=ax)"
      ],
      "id": "single-georgia",
      "execution_count": 508,
      "outputs": [
        {
          "output_type": "execute_result",
          "data": {
            "text/plain": [
              "<matplotlib.axes._subplots.AxesSubplot at 0x7f904b552c50>"
            ]
          },
          "metadata": {
            "tags": []
          },
          "execution_count": 508
        },
        {
          "output_type": "display_data",
          "data": {
            "image/png": "[encoded data removed]",
            "text/plain": [
              "<Figure size 864x432 with 1 Axes>"
            ]
          },
          "metadata": {
            "tags": [],
            "needs_background": "light"
          }
        }
      ]
    },
    {
      "cell_type": "markdown",
      "metadata": {
        "id": "informational-transaction"
      },
      "source": [
        "#### Checking membership types where region_category is null values"
      ],
      "id": "informational-transaction"
    },
    {
      "cell_type": "code",
      "metadata": {
        "colab": {
          "base_uri": "https://localhost:8080/",
          "height": 0
        },
        "id": "derived-commission",
        "outputId": "cb847ff0-8ea6-4439-db5e-c11ae9f5e843"
      },
      "source": [
        "sns.countplot(df['joined_through_referral'])"
      ],
      "id": "derived-commission",
      "execution_count": 509,
      "outputs": [
        {
          "output_type": "execute_result",
          "data": {
            "text/plain": [
              "<matplotlib.axes._subplots.AxesSubplot at 0x7f904b517c50>"
            ]
          },
          "metadata": {
            "tags": []
          },
          "execution_count": 509
        },
        {
          "output_type": "display_data",
          "data": {
            "image/png": "[encoded data removed]",
            "text/plain": [
              "<Figure size 432x288 with 1 Axes>"
            ]
          },
          "metadata": {
            "tags": [],
            "needs_background": "light"
          }
        }
      ]
    },
    {
      "cell_type": "code",
      "metadata": {
        "colab": {
          "base_uri": "https://localhost:8080/",
          "height": 0
        },
        "id": "novel-biography",
        "outputId": "0fc906c8-7112-4e92-b4b3-2504a077a802"
      },
      "source": [
        "sns.countplot(df['preferred_offer_types'])"
      ],
      "id": "novel-biography",
      "execution_count": 510,
      "outputs": [
        {
          "output_type": "execute_result",
          "data": {
            "text/plain": [
              "<matplotlib.axes._subplots.AxesSubplot at 0x7f904b4a96d0>"
            ]
          },
          "metadata": {
            "tags": []
          },
          "execution_count": 510
        },
        {
          "output_type": "display_data",
          "data": {
            "image/png": "[encoded data removed]",
            "text/plain": [
              "<Figure size 432x288 with 1 Axes>"
            ]
          },
          "metadata": {
            "tags": [],
            "needs_background": "light"
          }
        }
      ]
    },
    {
      "cell_type": "code",
      "metadata": {
        "colab": {
          "base_uri": "https://localhost:8080/",
          "height": 0
        },
        "id": "wicked-dimension",
        "outputId": "f1a66748-d1ea-4250-f866-c86479b6c1ba"
      },
      "source": [
        "sns.countplot(df['medium_of_operation'])"
      ],
      "id": "wicked-dimension",
      "execution_count": 511,
      "outputs": [
        {
          "output_type": "execute_result",
          "data": {
            "text/plain": [
              "<matplotlib.axes._subplots.AxesSubplot at 0x7f904b49bb10>"
            ]
          },
          "metadata": {
            "tags": []
          },
          "execution_count": 511
        },
        {
          "output_type": "display_data",
          "data": {
            "image/png": "[encoded data removed]",
            "text/plain": [
              "<Figure size 432x288 with 1 Axes>"
            ]
          },
          "metadata": {
            "tags": [],
            "needs_background": "light"
          }
        }
      ]
    },
    {
      "cell_type": "code",
      "metadata": {
        "colab": {
          "base_uri": "https://localhost:8080/",
          "height": 0
        },
        "id": "white-matrix",
        "outputId": "386a937b-3cf7-4dfc-b3a5-826f7972170d"
      },
      "source": [
        "fig,ax = plt.subplots(figsize=(14,6))\n",
        "sns.countplot(df['days_since_last_login'],hue=df['churn_risk_score'],ax=ax)"
      ],
      "id": "white-matrix",
      "execution_count": 512,
      "outputs": [
        {
          "output_type": "execute_result",
          "data": {
            "text/plain": [
              "<matplotlib.axes._subplots.AxesSubplot at 0x7f904b3f3ed0>"
            ]
          },
          "metadata": {
            "tags": []
          },
          "execution_count": 512
        },
        {
          "output_type": "display_data",
          "data": {
            "image/png": "[encoded data removed]",
            "text/plain": [
              "<Figure size 1008x432 with 1 Axes>"
            ]
          },
          "metadata": {
            "tags": [],
            "needs_background": "light"
          }
        }
      ]
    },
    {
      "cell_type": "code",
      "metadata": {
        "colab": {
          "base_uri": "https://localhost:8080/",
          "height": 0
        },
        "id": "romantic-australia",
        "outputId": "01bee95d-2ce3-435c-8e27-01ed4f9852be"
      },
      "source": [
        "sns.countplot(df['used_special_discount'],hue=df['churn_risk_score'])"
      ],
      "id": "romantic-australia",
      "execution_count": 513,
      "outputs": [
        {
          "output_type": "execute_result",
          "data": {
            "text/plain": [
              "<matplotlib.axes._subplots.AxesSubplot at 0x7f904b118dd0>"
            ]
          },
          "metadata": {
            "tags": []
          },
          "execution_count": 513
        },
        {
          "output_type": "display_data",
          "data": {
            "image/png": "[encoded data removed]",
            "text/plain": [
              "<Figure size 432x288 with 1 Axes>"
            ]
          },
          "metadata": {
            "tags": [],
            "needs_background": "light"
          }
        }
      ]
    },
    {
      "cell_type": "markdown",
      "metadata": {
        "id": "satisfactory-affiliate"
      },
      "source": [
        "#### From the above graph it can be inferred that those who has used the discount has a little high churn risk. "
      ],
      "id": "satisfactory-affiliate"
    },
    {
      "cell_type": "code",
      "metadata": {
        "colab": {
          "base_uri": "https://localhost:8080/",
          "height": 0
        },
        "id": "violent-compromise",
        "outputId": "7cd88fe5-26e2-472a-dc50-51308850b1ec"
      },
      "source": [
        "#Represents whether customer prefer offers\n",
        "sns.countplot(df['offer_application_preference'])"
      ],
      "id": "violent-compromise",
      "execution_count": 514,
      "outputs": [
        {
          "output_type": "execute_result",
          "data": {
            "text/plain": [
              "<matplotlib.axes._subplots.AxesSubplot at 0x7f904b0d3b90>"
            ]
          },
          "metadata": {
            "tags": []
          },
          "execution_count": 514
        },
        {
          "output_type": "display_data",
          "data": {
            "image/png": "[encoded data removed]",
            "text/plain": [
              "<Figure size 432x288 with 1 Axes>"
            ]
          },
          "metadata": {
            "tags": [],
            "needs_background": "light"
          }
        }
      ]
    },
    {
      "cell_type": "code",
      "metadata": {
        "scrolled": true,
        "colab": {
          "base_uri": "https://localhost:8080/",
          "height": 0
        },
        "id": "composed-texture",
        "outputId": "a1e83647-f141-41e6-9625-cfd226cd8a64"
      },
      "source": [
        "fig,ax = plt.subplots(figsize=(18,6))\n",
        "sns.countplot(df['feedback'],hue=df['churn_risk_score'],ax=ax)"
      ],
      "id": "composed-texture",
      "execution_count": 515,
      "outputs": [
        {
          "output_type": "execute_result",
          "data": {
            "text/plain": [
              "<matplotlib.axes._subplots.AxesSubplot at 0x7f904b06e890>"
            ]
          },
          "metadata": {
            "tags": []
          },
          "execution_count": 515
        },
        {
          "output_type": "display_data",
          "data": {
            "image/png": "[encoded data removed]",
            "text/plain": [
              "<Figure size 1296x432 with 1 Axes>"
            ]
          },
          "metadata": {
            "tags": [],
            "needs_background": "light"
          }
        }
      ]
    },
    {
      "cell_type": "markdown",
      "metadata": {
        "id": "respiratory-dining"
      },
      "source": [
        "#### This graph will help in encoding the categories based on the feedback so, it's an important feature.\n",
        "#### We can group the positive and negative feedback"
      ],
      "id": "respiratory-dining"
    },
    {
      "cell_type": "code",
      "metadata": {
        "scrolled": true,
        "colab": {
          "base_uri": "https://localhost:8080/",
          "height": 235
        },
        "id": "angry-substance",
        "outputId": "f82e9cce-1d04-4584-e982-ecd8c54faf81"
      },
      "source": [
        "df['churn_risk_score'].value_counts().reset_index().rename({'index':'score','churn_risk_score':'count'},axis=1)"
      ],
      "id": "angry-substance",
      "execution_count": 516,
      "outputs": [
        {
          "output_type": "execute_result",
          "data": {
            "text/html": [
              "<div>\n",
              "<style scoped>\n",
              "    .dataframe tbody tr th:only-of-type {\n",
              "        vertical-align: middle;\n",
              "    }\n",
              "\n",
              "    .dataframe tbody tr th {\n",
              "        vertical-align: top;\n",
              "    }\n",
              "\n",
              "    .dataframe thead th {\n",
              "        text-align: right;\n",
              "    }\n",
              "</style>\n",
              "<table border=\"1\" class=\"dataframe\">\n",
              "  <thead>\n",
              "    <tr style=\"text-align: right;\">\n",
              "      <th></th>\n",
              "      <th>score</th>\n",
              "      <th>count</th>\n",
              "    </tr>\n",
              "  </thead>\n",
              "  <tbody>\n",
              "    <tr>\n",
              "      <th>0</th>\n",
              "      <td>3</td>\n",
              "      <td>10424</td>\n",
              "    </tr>\n",
              "    <tr>\n",
              "      <th>1</th>\n",
              "      <td>4</td>\n",
              "      <td>10185</td>\n",
              "    </tr>\n",
              "    <tr>\n",
              "      <th>2</th>\n",
              "      <td>5</td>\n",
              "      <td>9827</td>\n",
              "    </tr>\n",
              "    <tr>\n",
              "      <th>3</th>\n",
              "      <td>2</td>\n",
              "      <td>2741</td>\n",
              "    </tr>\n",
              "    <tr>\n",
              "      <th>4</th>\n",
              "      <td>1</td>\n",
              "      <td>2652</td>\n",
              "    </tr>\n",
              "    <tr>\n",
              "      <th>5</th>\n",
              "      <td>-1</td>\n",
              "      <td>1163</td>\n",
              "    </tr>\n",
              "  </tbody>\n",
              "</table>\n",
              "</div>"
            ],
            "text/plain": [
              "   score  count\n",
              "0      3  10424\n",
              "1      4  10185\n",
              "2      5   9827\n",
              "3      2   2741\n",
              "4      1   2652\n",
              "5     -1   1163"
            ]
          },
          "metadata": {
            "tags": []
          },
          "execution_count": 516
        }
      ]
    },
    {
      "cell_type": "code",
      "metadata": {
        "scrolled": true,
        "colab": {
          "base_uri": "https://localhost:8080/",
          "height": 297
        },
        "id": "downtown-exclusion",
        "outputId": "48deb915-8121-4df4-da4a-93d0bf734d36"
      },
      "source": [
        "sns.boxplot(df['points_in_wallet'])"
      ],
      "id": "downtown-exclusion",
      "execution_count": 517,
      "outputs": [
        {
          "output_type": "execute_result",
          "data": {
            "text/plain": [
              "<matplotlib.axes._subplots.AxesSubplot at 0x7f904af07c50>"
            ]
          },
          "metadata": {
            "tags": []
          },
          "execution_count": 517
        },
        {
          "output_type": "display_data",
          "data": {
            "image/png": "[encoded data removed]",
            "text/plain": [
              "<Figure size 432x288 with 1 Axes>"
            ]
          },
          "metadata": {
            "tags": [],
            "needs_background": "light"
          }
        }
      ]
    },
    {
      "cell_type": "markdown",
      "metadata": {
        "id": "attractive-allergy"
      },
      "source": [
        "#### Here we may see there's lots of outlier but since it's as wallet points which can really vary between different ranges. We can also see the negative values which can be treated as outlier iff we don't have the credit system in place "
      ],
      "id": "attractive-allergy"
    },
    {
      "cell_type": "code",
      "metadata": {
        "colab": {
          "base_uri": "https://localhost:8080/",
          "height": 297
        },
        "id": "EghVqPXgNUYb",
        "outputId": "19d9afa6-1094-4e03-8ad5-82d50a6357f5"
      },
      "source": [
        "sns.kdeplot(df['points_in_wallet'])"
      ],
      "id": "EghVqPXgNUYb",
      "execution_count": 518,
      "outputs": [
        {
          "output_type": "execute_result",
          "data": {
            "text/plain": [
              "<matplotlib.axes._subplots.AxesSubplot at 0x7f904aef6c90>"
            ]
          },
          "metadata": {
            "tags": []
          },
          "execution_count": 518
        },
        {
          "output_type": "display_data",
          "data": {
            "image/png": "[encoded data removed]",
            "text/plain": [
              "<Figure size 432x288 with 1 Axes>"
            ]
          },
          "metadata": {
            "tags": [],
            "needs_background": "light"
          }
        }
      ]
    },
    {
      "cell_type": "code",
      "metadata": {
        "colab": {
          "base_uri": "https://localhost:8080/",
          "height": 328
        },
        "id": "legal-faith",
        "outputId": "aa87aac7-5cb2-49e9-eae1-a5d89e0bbed0"
      },
      "source": [
        "df[df['points_in_wallet']<-50][df['avg_transaction_value']>50000][['points_in_wallet','churn_risk_score','avg_transaction_value']]"
      ],
      "id": "legal-faith",
      "execution_count": 519,
      "outputs": [
        {
          "output_type": "execute_result",
          "data": {
            "text/html": [
              "<div>\n",
              "<style scoped>\n",
              "    .dataframe tbody tr th:only-of-type {\n",
              "        vertical-align: middle;\n",
              "    }\n",
              "\n",
              "    .dataframe tbody tr th {\n",
              "        vertical-align: top;\n",
              "    }\n",
              "\n",
              "    .dataframe thead th {\n",
              "        text-align: right;\n",
              "    }\n",
              "</style>\n",
              "<table border=\"1\" class=\"dataframe\">\n",
              "  <thead>\n",
              "    <tr style=\"text-align: right;\">\n",
              "      <th></th>\n",
              "      <th>points_in_wallet</th>\n",
              "      <th>churn_risk_score</th>\n",
              "      <th>avg_transaction_value</th>\n",
              "    </tr>\n",
              "  </thead>\n",
              "  <tbody>\n",
              "    <tr>\n",
              "      <th>625</th>\n",
              "      <td>-301.998780</td>\n",
              "      <td>1</td>\n",
              "      <td>87823.92</td>\n",
              "    </tr>\n",
              "    <tr>\n",
              "      <th>4214</th>\n",
              "      <td>-96.613259</td>\n",
              "      <td>1</td>\n",
              "      <td>52180.83</td>\n",
              "    </tr>\n",
              "    <tr>\n",
              "      <th>7593</th>\n",
              "      <td>-77.782543</td>\n",
              "      <td>2</td>\n",
              "      <td>93902.80</td>\n",
              "    </tr>\n",
              "    <tr>\n",
              "      <th>9639</th>\n",
              "      <td>-132.429825</td>\n",
              "      <td>1</td>\n",
              "      <td>51213.42</td>\n",
              "    </tr>\n",
              "    <tr>\n",
              "      <th>10375</th>\n",
              "      <td>-293.570269</td>\n",
              "      <td>2</td>\n",
              "      <td>50451.67</td>\n",
              "    </tr>\n",
              "    <tr>\n",
              "      <th>15743</th>\n",
              "      <td>-298.736774</td>\n",
              "      <td>2</td>\n",
              "      <td>63399.63</td>\n",
              "    </tr>\n",
              "    <tr>\n",
              "      <th>23278</th>\n",
              "      <td>-102.695584</td>\n",
              "      <td>2</td>\n",
              "      <td>56349.20</td>\n",
              "    </tr>\n",
              "    <tr>\n",
              "      <th>24870</th>\n",
              "      <td>-110.205647</td>\n",
              "      <td>1</td>\n",
              "      <td>81628.48</td>\n",
              "    </tr>\n",
              "    <tr>\n",
              "      <th>26953</th>\n",
              "      <td>-129.172271</td>\n",
              "      <td>2</td>\n",
              "      <td>73125.88</td>\n",
              "    </tr>\n",
              "  </tbody>\n",
              "</table>\n",
              "</div>"
            ],
            "text/plain": [
              "       points_in_wallet  churn_risk_score  avg_transaction_value\n",
              "625         -301.998780                 1               87823.92\n",
              "4214         -96.613259                 1               52180.83\n",
              "7593         -77.782543                 2               93902.80\n",
              "9639        -132.429825                 1               51213.42\n",
              "10375       -293.570269                 2               50451.67\n",
              "15743       -298.736774                 2               63399.63\n",
              "23278       -102.695584                 2               56349.20\n",
              "24870       -110.205647                 1               81628.48\n",
              "26953       -129.172271                 2               73125.88"
            ]
          },
          "metadata": {
            "tags": []
          },
          "execution_count": 519
        }
      ]
    },
    {
      "cell_type": "code",
      "metadata": {
        "colab": {
          "base_uri": "https://localhost:8080/",
          "height": 297
        },
        "id": "missing-degree",
        "outputId": "5d87409c-3b9a-4365-9296-562f81f8d1a7"
      },
      "source": [
        "sns.boxplot(df['avg_time_spent'])"
      ],
      "id": "missing-degree",
      "execution_count": 520,
      "outputs": [
        {
          "output_type": "execute_result",
          "data": {
            "text/plain": [
              "<matplotlib.axes._subplots.AxesSubplot at 0x7f904ae49890>"
            ]
          },
          "metadata": {
            "tags": []
          },
          "execution_count": 520
        },
        {
          "output_type": "display_data",
          "data": {
            "image/png": "[encoded data removed]",
            "text/plain": [
              "<Figure size 432x288 with 1 Axes>"
            ]
          },
          "metadata": {
            "tags": [],
            "needs_background": "light"
          }
        }
      ]
    },
    {
      "cell_type": "markdown",
      "metadata": {
        "id": "unique-louisville"
      },
      "source": [
        "#### we can see that there is lot's of outliers in this avg_time_spent_attribute. Most of the values are also negative as can be seen"
      ],
      "id": "unique-louisville"
    },
    {
      "cell_type": "code",
      "metadata": {
        "colab": {
          "base_uri": "https://localhost:8080/",
          "height": 297
        },
        "id": "HGF65RyvOHFo",
        "outputId": "c4035318-0224-4aaa-d4b6-8fa4501beac2"
      },
      "source": [
        "sns.kdeplot(df['avg_time_spent'])"
      ],
      "id": "HGF65RyvOHFo",
      "execution_count": 521,
      "outputs": [
        {
          "output_type": "execute_result",
          "data": {
            "text/plain": [
              "<matplotlib.axes._subplots.AxesSubplot at 0x7f904ae31450>"
            ]
          },
          "metadata": {
            "tags": []
          },
          "execution_count": 521
        },
        {
          "output_type": "display_data",
          "data": {
            "image/png": "[encoded data removed]",
            "text/plain": [
              "<Figure size 432x288 with 1 Axes>"
            ]
          },
          "metadata": {
            "tags": [],
            "needs_background": "light"
          }
        }
      ]
    },
    {
      "cell_type": "code",
      "metadata": {
        "colab": {
          "base_uri": "https://localhost:8080/",
          "height": 297
        },
        "id": "aggressive-compatibility",
        "outputId": "6d4571ed-c434-46ea-bc14-c4b140833351"
      },
      "source": [
        "sns.boxplot(df['avg_transaction_value'])"
      ],
      "id": "aggressive-compatibility",
      "execution_count": 522,
      "outputs": [
        {
          "output_type": "execute_result",
          "data": {
            "text/plain": [
              "<matplotlib.axes._subplots.AxesSubplot at 0x7f904adb7bd0>"
            ]
          },
          "metadata": {
            "tags": []
          },
          "execution_count": 522
        },
        {
          "output_type": "display_data",
          "data": {
            "image/png": "[encoded data removed]",
            "text/plain": [
              "<Figure size 432x288 with 1 Axes>"
            ]
          },
          "metadata": {
            "tags": [],
            "needs_background": "light"
          }
        }
      ]
    },
    {
      "cell_type": "markdown",
      "metadata": {
        "id": "parliamentary-chapel"
      },
      "source": [
        "#### This may not  be treated as outliers since the txn amounts can vary"
      ],
      "id": "parliamentary-chapel"
    },
    {
      "cell_type": "code",
      "metadata": {
        "scrolled": true,
        "colab": {
          "base_uri": "https://localhost:8080/",
          "height": 1000
        },
        "id": "authentic-rings",
        "outputId": "59a3cce4-9335-47c4-8d8b-e2d31f29955c"
      },
      "source": [
        "df[df['avg_transaction_value']>50000][['churn_risk_score','feedback']].tail(35)"
      ],
      "id": "authentic-rings",
      "execution_count": 523,
      "outputs": [
        {
          "output_type": "execute_result",
          "data": {
            "text/html": [
              "<div>\n",
              "<style scoped>\n",
              "    .dataframe tbody tr th:only-of-type {\n",
              "        vertical-align: middle;\n",
              "    }\n",
              "\n",
              "    .dataframe tbody tr th {\n",
              "        vertical-align: top;\n",
              "    }\n",
              "\n",
              "    .dataframe thead th {\n",
              "        text-align: right;\n",
              "    }\n",
              "</style>\n",
              "<table border=\"1\" class=\"dataframe\">\n",
              "  <thead>\n",
              "    <tr style=\"text-align: right;\">\n",
              "      <th></th>\n",
              "      <th>churn_risk_score</th>\n",
              "      <th>feedback</th>\n",
              "    </tr>\n",
              "  </thead>\n",
              "  <tbody>\n",
              "    <tr>\n",
              "      <th>36576</th>\n",
              "      <td>1</td>\n",
              "      <td>Products always in Stock</td>\n",
              "    </tr>\n",
              "    <tr>\n",
              "      <th>36605</th>\n",
              "      <td>1</td>\n",
              "      <td>User Friendly Website</td>\n",
              "    </tr>\n",
              "    <tr>\n",
              "      <th>36609</th>\n",
              "      <td>2</td>\n",
              "      <td>User Friendly Website</td>\n",
              "    </tr>\n",
              "    <tr>\n",
              "      <th>36616</th>\n",
              "      <td>2</td>\n",
              "      <td>User Friendly Website</td>\n",
              "    </tr>\n",
              "    <tr>\n",
              "      <th>36618</th>\n",
              "      <td>2</td>\n",
              "      <td>User Friendly Website</td>\n",
              "    </tr>\n",
              "    <tr>\n",
              "      <th>36621</th>\n",
              "      <td>1</td>\n",
              "      <td>Reasonable Price</td>\n",
              "    </tr>\n",
              "    <tr>\n",
              "      <th>36635</th>\n",
              "      <td>2</td>\n",
              "      <td>Quality Customer Care</td>\n",
              "    </tr>\n",
              "    <tr>\n",
              "      <th>36644</th>\n",
              "      <td>1</td>\n",
              "      <td>Quality Customer Care</td>\n",
              "    </tr>\n",
              "    <tr>\n",
              "      <th>36649</th>\n",
              "      <td>1</td>\n",
              "      <td>User Friendly Website</td>\n",
              "    </tr>\n",
              "    <tr>\n",
              "      <th>36662</th>\n",
              "      <td>1</td>\n",
              "      <td>Quality Customer Care</td>\n",
              "    </tr>\n",
              "    <tr>\n",
              "      <th>36680</th>\n",
              "      <td>2</td>\n",
              "      <td>User Friendly Website</td>\n",
              "    </tr>\n",
              "    <tr>\n",
              "      <th>36685</th>\n",
              "      <td>2</td>\n",
              "      <td>Products always in Stock</td>\n",
              "    </tr>\n",
              "    <tr>\n",
              "      <th>36708</th>\n",
              "      <td>1</td>\n",
              "      <td>Quality Customer Care</td>\n",
              "    </tr>\n",
              "    <tr>\n",
              "      <th>36710</th>\n",
              "      <td>2</td>\n",
              "      <td>Reasonable Price</td>\n",
              "    </tr>\n",
              "    <tr>\n",
              "      <th>36728</th>\n",
              "      <td>2</td>\n",
              "      <td>Quality Customer Care</td>\n",
              "    </tr>\n",
              "    <tr>\n",
              "      <th>36730</th>\n",
              "      <td>1</td>\n",
              "      <td>User Friendly Website</td>\n",
              "    </tr>\n",
              "    <tr>\n",
              "      <th>36738</th>\n",
              "      <td>2</td>\n",
              "      <td>Reasonable Price</td>\n",
              "    </tr>\n",
              "    <tr>\n",
              "      <th>36754</th>\n",
              "      <td>2</td>\n",
              "      <td>Quality Customer Care</td>\n",
              "    </tr>\n",
              "    <tr>\n",
              "      <th>36768</th>\n",
              "      <td>2</td>\n",
              "      <td>Products always in Stock</td>\n",
              "    </tr>\n",
              "    <tr>\n",
              "      <th>36793</th>\n",
              "      <td>1</td>\n",
              "      <td>Reasonable Price</td>\n",
              "    </tr>\n",
              "    <tr>\n",
              "      <th>36827</th>\n",
              "      <td>1</td>\n",
              "      <td>Products always in Stock</td>\n",
              "    </tr>\n",
              "    <tr>\n",
              "      <th>36830</th>\n",
              "      <td>1</td>\n",
              "      <td>Products always in Stock</td>\n",
              "    </tr>\n",
              "    <tr>\n",
              "      <th>36836</th>\n",
              "      <td>1</td>\n",
              "      <td>Products always in Stock</td>\n",
              "    </tr>\n",
              "    <tr>\n",
              "      <th>36876</th>\n",
              "      <td>2</td>\n",
              "      <td>Products always in Stock</td>\n",
              "    </tr>\n",
              "    <tr>\n",
              "      <th>36897</th>\n",
              "      <td>1</td>\n",
              "      <td>Products always in Stock</td>\n",
              "    </tr>\n",
              "    <tr>\n",
              "      <th>36900</th>\n",
              "      <td>2</td>\n",
              "      <td>Reasonable Price</td>\n",
              "    </tr>\n",
              "    <tr>\n",
              "      <th>36907</th>\n",
              "      <td>2</td>\n",
              "      <td>Products always in Stock</td>\n",
              "    </tr>\n",
              "    <tr>\n",
              "      <th>36923</th>\n",
              "      <td>1</td>\n",
              "      <td>User Friendly Website</td>\n",
              "    </tr>\n",
              "    <tr>\n",
              "      <th>36928</th>\n",
              "      <td>2</td>\n",
              "      <td>User Friendly Website</td>\n",
              "    </tr>\n",
              "    <tr>\n",
              "      <th>36944</th>\n",
              "      <td>2</td>\n",
              "      <td>Reasonable Price</td>\n",
              "    </tr>\n",
              "    <tr>\n",
              "      <th>36949</th>\n",
              "      <td>1</td>\n",
              "      <td>Quality Customer Care</td>\n",
              "    </tr>\n",
              "    <tr>\n",
              "      <th>36966</th>\n",
              "      <td>2</td>\n",
              "      <td>Quality Customer Care</td>\n",
              "    </tr>\n",
              "    <tr>\n",
              "      <th>36980</th>\n",
              "      <td>1</td>\n",
              "      <td>Reasonable Price</td>\n",
              "    </tr>\n",
              "    <tr>\n",
              "      <th>36984</th>\n",
              "      <td>1</td>\n",
              "      <td>Products always in Stock</td>\n",
              "    </tr>\n",
              "    <tr>\n",
              "      <th>36985</th>\n",
              "      <td>2</td>\n",
              "      <td>Products always in Stock</td>\n",
              "    </tr>\n",
              "  </tbody>\n",
              "</table>\n",
              "</div>"
            ],
            "text/plain": [
              "       churn_risk_score                  feedback\n",
              "36576                 1  Products always in Stock\n",
              "36605                 1     User Friendly Website\n",
              "36609                 2     User Friendly Website\n",
              "36616                 2     User Friendly Website\n",
              "36618                 2     User Friendly Website\n",
              "36621                 1          Reasonable Price\n",
              "36635                 2     Quality Customer Care\n",
              "36644                 1     Quality Customer Care\n",
              "36649                 1     User Friendly Website\n",
              "36662                 1     Quality Customer Care\n",
              "36680                 2     User Friendly Website\n",
              "36685                 2  Products always in Stock\n",
              "36708                 1     Quality Customer Care\n",
              "36710                 2          Reasonable Price\n",
              "36728                 2     Quality Customer Care\n",
              "36730                 1     User Friendly Website\n",
              "36738                 2          Reasonable Price\n",
              "36754                 2     Quality Customer Care\n",
              "36768                 2  Products always in Stock\n",
              "36793                 1          Reasonable Price\n",
              "36827                 1  Products always in Stock\n",
              "36830                 1  Products always in Stock\n",
              "36836                 1  Products always in Stock\n",
              "36876                 2  Products always in Stock\n",
              "36897                 1  Products always in Stock\n",
              "36900                 2          Reasonable Price\n",
              "36907                 2  Products always in Stock\n",
              "36923                 1     User Friendly Website\n",
              "36928                 2     User Friendly Website\n",
              "36944                 2          Reasonable Price\n",
              "36949                 1     Quality Customer Care\n",
              "36966                 2     Quality Customer Care\n",
              "36980                 1          Reasonable Price\n",
              "36984                 1  Products always in Stock\n",
              "36985                 2  Products always in Stock"
            ]
          },
          "metadata": {
            "tags": []
          },
          "execution_count": 523
        }
      ]
    },
    {
      "cell_type": "markdown",
      "metadata": {
        "id": "three-mainstream"
      },
      "source": [
        "#### After checking this table we can say that those who has have average transaction value of more then 50000 have less churn risk score(1 or 2) so, from this inference we can create new feature based on the avg_transaction_value for 50000 and more."
      ],
      "id": "three-mainstream"
    },
    {
      "cell_type": "code",
      "metadata": {
        "colab": {
          "base_uri": "https://localhost:8080/"
        },
        "id": "restricted-circle",
        "outputId": "0ffeb594-ee97-4c50-f991-de2d8603c4b5"
      },
      "source": [
        "df.select_dtypes('object').columns"
      ],
      "id": "restricted-circle",
      "execution_count": 524,
      "outputs": [
        {
          "output_type": "execute_result",
          "data": {
            "text/plain": [
              "Index(['customer_id', 'Name', 'gender', 'security_no', 'region_category',\n",
              "       'membership_category', 'joining_date', 'joined_through_referral',\n",
              "       'referral_id', 'preferred_offer_types', 'medium_of_operation',\n",
              "       'internet_option', 'last_visit_time', 'avg_frequency_login_days',\n",
              "       'used_special_discount', 'offer_application_preference',\n",
              "       'past_complaint', 'complaint_status', 'feedback'],\n",
              "      dtype='object')"
            ]
          },
          "metadata": {
            "tags": []
          },
          "execution_count": 524
        }
      ]
    },
    {
      "cell_type": "code",
      "metadata": {
        "scrolled": true,
        "colab": {
          "base_uri": "https://localhost:8080/"
        },
        "id": "constitutional-lotus",
        "outputId": "c3c05dda-ebf5-451a-9294-1fdb1abb3891"
      },
      "source": [
        "#Checking for duplicate rows\n",
        "df_dups = len(df[df.duplicated()])\n",
        "testdf_dups = len(test_df[test_df.duplicated()])\n",
        "print('Duplicates in train file  is: {} and in test file is: {}'.format(df_dups,testdf_dups))"
      ],
      "id": "constitutional-lotus",
      "execution_count": 525,
      "outputs": [
        {
          "output_type": "stream",
          "text": [
            "Duplicates in train file  is: 0 and in test file is: 0\n"
          ],
          "name": "stdout"
        }
      ]
    },
    {
      "cell_type": "code",
      "metadata": {
        "scrolled": true,
        "colab": {
          "base_uri": "https://localhost:8080/"
        },
        "id": "conservative-piece",
        "outputId": "2110c3f3-5c24-4278-a891-ac5205afe13d"
      },
      "source": [
        "df['security_no'].value_counts().sum()"
      ],
      "id": "conservative-piece",
      "execution_count": 526,
      "outputs": [
        {
          "output_type": "execute_result",
          "data": {
            "text/plain": [
              "36992"
            ]
          },
          "metadata": {
            "tags": []
          },
          "execution_count": 526
        }
      ]
    },
    {
      "cell_type": "markdown",
      "metadata": {
        "id": "bzIDLJm7SrfA"
      },
      "source": [
        "#### This also confirms that their is no duplicate values in the dataset as each person has unique security no. assigned.\n"
      ],
      "id": "bzIDLJm7SrfA"
    },
    {
      "cell_type": "markdown",
      "metadata": {
        "id": "jVzCCaoKsNMb"
      },
      "source": [
        "## Data Cleaning & Feature Engineering"
      ],
      "id": "jVzCCaoKsNMb"
    },
    {
      "cell_type": "markdown",
      "metadata": {
        "id": "kB0TEtfBq8NS"
      },
      "source": [
        "### Handling Missing attributes\n",
        "#### Missing attributes are:\n",
        "1. gender (Unknown) --already solved using genderize API \n",
        "2. region_category (NaN)\n",
        "3. joined_through_referral (?)\n",
        "4. medium_of_operation (?)\n",
        "5. preferred_offer_types (NaN)\n",
        "6. points_in_wallet (NaN)\n",
        "7. days_since_last_login (-999)"
      ],
      "id": "kB0TEtfBq8NS"
    },
    {
      "cell_type": "code",
      "metadata": {
        "id": "expensive-wheel"
      },
      "source": [
        "#Replacing hidden Missing values with NaN\n",
        "df['gender'].replace({'Unknown':np.nan},inplace=True)\n",
        "test_df['gender'].replace({'Unknown':np.nan},inplace=True)\n",
        "df['joined_through_referral'].replace({'?':np.nan},inplace=True)\n",
        "test_df['joined_through_referral'].replace({'?':np.nan},inplace=True)\n",
        "df['days_since_last_login'].replace({-999:np.nan},inplace=True)\n",
        "test_df['days_since_last_login'].replace({-999:np.nan},inplace=True)\n",
        "df['medium_of_operation'].replace({'?':np.nan},inplace=True)\n",
        "test_df['medium_of_operation'].replace({'?':np.nan},inplace=True)\n",
        "df['churn_risk_score'].replace({-1:np.nan},inplace=True)"
      ],
      "id": "expensive-wheel",
      "execution_count": 527,
      "outputs": []
    },
    {
      "cell_type": "code",
      "metadata": {
        "id": "informative-america"
      },
      "source": [
        "#Binary Encoding\n",
        "df['gender'].replace({'M':1,'F':0},inplace=True)\n",
        "df['joined_through_referral'].replace({'Yes':1,'No':0,},inplace=True)\n",
        "df['used_special_discount'].replace({'Yes':1,'No':0},inplace=True)\n",
        "df['offer_application_preference'].replace({'Yes':1,'No':0},inplace=True)\n",
        "df['past_complaint'].replace({'Yes':1,'No':0},inplace=True)\n",
        "df['feedback'] = np.where(df['feedback'].isin(['Reasonable Price','User Friendly Website','Products always in Stock','Quality Customer Care']),1,0)\n",
        "df['days_since_last_login'].replace({-999:np.nan},inplace=True)\n",
        "test_df['gender'].replace({'M':1,'F':0,'Unknown':np.nan},inplace=True)\n",
        "test_df['joined_through_referral'].replace({'Yes':1,'No':0,'?':np.nan},inplace=True)\n",
        "test_df['used_special_discount'].replace({'Yes':1,'No':0},inplace=True)\n",
        "test_df['offer_application_preference'].replace({'Yes':1,'No':0},inplace=True)\n",
        "test_df['past_complaint'].replace({'Yes':1,'No':0},inplace=True)\n",
        "test_df['days_since_last_login'].replace({-999:np.nan},inplace=True)\n",
        "test_df['feedback'] = np.where(test_df['feedback'].isin(['Reasonable Price','User Friendly Website','Products always in Stock','Quality Customer Care']),1,0)\n",
        "\n",
        "# #labelEncoding Feedback\n",
        "# df['feedback'] = df['feedback'].replace({'User Friendly Website':0,'Reasonable Price':0,\n",
        "#                                          'Quality Customer Care':0,'Products always in Stock':0,\n",
        "#                                         'No reason specified':1,'Poor Customer Service':2,\n",
        "#                                         'Poor Product Quality':2,'Poor Website':2,'Too many ads':2})\n",
        "# #labelEncoding Feedback\n",
        "# test_df['feedback'] = test_df['feedback'].replace({'User Friendly Website':0,'Reasonable Price':0,\n",
        "#                                          'Quality Customer Care':0,'Products always in Stock':0,\n",
        "#                                         'No reason specified':1,'Poor Customer Service':2,\n",
        "#                                         'Poor Product Quality':2,'Poor Website':2,'Too many ads':2})"
      ],
      "id": "informative-america",
      "execution_count": 528,
      "outputs": []
    },
    {
      "cell_type": "code",
      "metadata": {
        "id": "accompanied-flower"
      },
      "source": [
        "df['avg_frequency_login_days'].replace({'Error':np.nan},inplace=True)\n",
        "df['avg_frequency_login_days'] = df['avg_frequency_login_days'].astype('float')\n",
        "test_df['avg_frequency_login_days'].replace({'Error':np.nan},inplace=True)\n",
        "test_df['avg_frequency_login_days'] = test_df['avg_frequency_login_days'].astype('float')"
      ],
      "id": "accompanied-flower",
      "execution_count": 529,
      "outputs": []
    },
    {
      "cell_type": "code",
      "metadata": {
        "colab": {
          "base_uri": "https://localhost:8080/"
        },
        "id": "rough-exhibition",
        "outputId": "482ebc09-0cfe-4c1b-a7db-a49e7e498281"
      },
      "source": [
        "#Check missing values after converting all missings to NaN\n",
        "df.isna().sum()"
      ],
      "id": "rough-exhibition",
      "execution_count": 530,
      "outputs": [
        {
          "output_type": "execute_result",
          "data": {
            "text/plain": [
              "Unnamed: 0                         0\n",
              "customer_id                        0\n",
              "Name                               0\n",
              "age                                0\n",
              "gender                             0\n",
              "security_no                        0\n",
              "region_category                 5428\n",
              "membership_category                0\n",
              "joining_date                       0\n",
              "joined_through_referral         5438\n",
              "referral_id                        0\n",
              "preferred_offer_types            288\n",
              "medium_of_operation             5393\n",
              "internet_option                    0\n",
              "last_visit_time                    0\n",
              "days_since_last_login           1999\n",
              "avg_time_spent                     0\n",
              "avg_transaction_value              0\n",
              "avg_frequency_login_days        3522\n",
              "points_in_wallet                3443\n",
              "used_special_discount              0\n",
              "offer_application_preference       0\n",
              "past_complaint                     0\n",
              "complaint_status                   0\n",
              "feedback                           0\n",
              "churn_risk_score                1163\n",
              "dtype: int64"
            ]
          },
          "metadata": {
            "tags": []
          },
          "execution_count": 530
        }
      ]
    },
    {
      "cell_type": "markdown",
      "metadata": {
        "id": "pursuant-jersey"
      },
      "source": [
        "#### For imputing gender i will use name to gender mapping API's. This method will provide more accurate imputation then other methods. We will use the first name to find the gender of particular person.\n",
        "#### For this purpose am going to use <i>genderize<i> api."
      ],
      "id": "pursuant-jersey"
    },
    {
      "cell_type": "code",
      "metadata": {
        "id": "exceptional-amplifier"
      },
      "source": [
        "url = 'https://api.genderize.io/?'\n",
        "# Preparing data for the API request\n",
        "first_names_data = ['name='+x.split(\" \")[0]+'&' for x in df['Name']]\n",
        "\n",
        "#Sending API request and fetching & processing the data recieved\n",
        "#     req_string = ''.join(first_names_data[i:i+10])\n",
        "def fill_gender(df):\n",
        "    df = df.copy()\n",
        "    for i in range(len(df)):\n",
        "        if pd.isna(df.iloc[i]['gender']):\n",
        "            res = requests.get(url+'name='+df['Name'][i].split(\" \")[0])\n",
        "            json_res = res.json()\n",
        "            print(json_res)\n",
        "            if json_res['gender']=='female':\n",
        "                df['gender'][i] = 0\n",
        "            else:\n",
        "                df['gender'][i] = 1\n",
        "    return df\n",
        "        "
      ],
      "id": "exceptional-amplifier",
      "execution_count": 531,
      "outputs": []
    },
    {
      "cell_type": "code",
      "metadata": {
        "id": "colored-picking"
      },
      "source": [
        "# df = fill_gender(df)\n",
        "# test_df = fill_gender(testt_df)"
      ],
      "id": "colored-picking",
      "execution_count": 532,
      "outputs": []
    },
    {
      "cell_type": "code",
      "metadata": {
        "id": "advance-scratch"
      },
      "source": [
        "df['region_category'].fillna('Village',inplace=True)\n",
        "test_df['region_category'].fillna('Village',inplace=True)"
      ],
      "id": "advance-scratch",
      "execution_count": 533,
      "outputs": []
    },
    {
      "cell_type": "markdown",
      "metadata": {
        "id": "innovative-switzerland"
      },
      "source": [
        "#### We can impute joined_through_referral missing values using that refferal_id column as it may be most possible that if a user has joined through any referral than he/she must have applied some referral ID."
      ],
      "id": "innovative-switzerland"
    },
    {
      "cell_type": "code",
      "metadata": {
        "id": "forced-secretary"
      },
      "source": [
        "def fill_joined_through_referral(df):\n",
        "    df = df.copy()\n",
        "#     df['joined_through_referral'] = df['joined_through_referral'].astype('int')\n",
        "    for i in range(len(df)):\n",
        "        if pd.isna(df.iloc[i]['joined_through_referral']):\n",
        "            if df.iloc[i]['referral_id']=='xxxxxxxx':\n",
        "                df['joined_through_referral'][i] = 0\n",
        "            else:\n",
        "                df['joined_through_referral'][i] = 1\n",
        "    return df"
      ],
      "id": "forced-secretary",
      "execution_count": 534,
      "outputs": []
    },
    {
      "cell_type": "code",
      "metadata": {
        "colab": {
          "base_uri": "https://localhost:8080/"
        },
        "id": "accepting-confirmation",
        "outputId": "8af63f23-567d-4789-baa6-6542ed86161f"
      },
      "source": [
        "df = fill_joined_through_referral(df)\n",
        "test_df = fill_joined_through_referral(test_df)\n",
        "df.joined_through_referral.isna().sum()"
      ],
      "id": "accepting-confirmation",
      "execution_count": 535,
      "outputs": [
        {
          "output_type": "execute_result",
          "data": {
            "text/plain": [
              "0"
            ]
          },
          "metadata": {
            "tags": []
          },
          "execution_count": 535
        }
      ]
    },
    {
      "cell_type": "code",
      "metadata": {
        "id": "excessive-tragedy"
      },
      "source": [
        "# Replacing with most occuring value\n",
        "df['preferred_offer_types'].fillna('Gift Vouchers/Coupons',inplace=True)\n",
        "test_df['preferred_offer_types'].fillna('Without Offers',inplace=True)"
      ],
      "id": "excessive-tragedy",
      "execution_count": 536,
      "outputs": []
    },
    {
      "cell_type": "code",
      "metadata": {
        "id": "usual-track"
      },
      "source": [
        "# Replacing with most occuring value\n",
        "df['medium_of_operation'].fillna('Desktop',inplace=True)\n",
        "test_df['medium_of_operation'].fillna('Desktop',inplace=True)"
      ],
      "id": "usual-track",
      "execution_count": 537,
      "outputs": []
    },
    {
      "cell_type": "code",
      "metadata": {
        "id": "white-rover"
      },
      "source": [
        "#Replacing with most occuring value\n",
        "df['avg_frequency_login_days'].fillna(13,inplace=True)\n",
        "test_df['avg_frequency_login_days'].fillna(15,inplace=True)"
      ],
      "id": "white-rover",
      "execution_count": 538,
      "outputs": []
    },
    {
      "cell_type": "code",
      "metadata": {
        "scrolled": true,
        "id": "rotary-story"
      },
      "source": [
        "#Replacing with Mean value\n",
        "df['points_in_wallet'].fillna(686,inplace=True)\n",
        "test_df['points_in_wallet'].fillna(686,inplace=True)"
      ],
      "id": "rotary-story",
      "execution_count": 539,
      "outputs": []
    },
    {
      "cell_type": "code",
      "metadata": {
        "id": "naughty-desire"
      },
      "source": [
        "# Replacing with most occuring value\n",
        "df['days_since_last_login'].fillna(df['days_since_last_login'].median(),inplace=True)\n",
        "test_df['days_since_last_login'].fillna(df['days_since_last_login'].median(),inplace=True)"
      ],
      "id": "naughty-desire",
      "execution_count": 540,
      "outputs": []
    },
    {
      "cell_type": "code",
      "metadata": {
        "id": "headed-westminster"
      },
      "source": [
        "# Handling -1(NaN) in churn_risk_score (target variable)\n",
        "# for i in range(len(df)):\n",
        "#     if pd.isna(df.iloc[i]['churn_risk_score']):\n",
        "#         if df.iloc[i]['feedback']==1:\n",
        "#             df['churn_risk_score'][i] = 1\n",
        "#         else:\n",
        "#             df['churn_risk_score'][i] = 3\n",
        "\n",
        "#Replacing NaN in churn_risk_score with 1 (Assuming it was mislabeled as -1 earlier)\n",
        "df['churn_risk_score'].fillna(1,inplace=True)\n",
        "\n",
        "# Converting values from float to int\n",
        "df['churn_risk_score'] = df['churn_risk_score'].astype('int')\n"
      ],
      "id": "headed-westminster",
      "execution_count": 541,
      "outputs": []
    },
    {
      "cell_type": "code",
      "metadata": {
        "scrolled": true,
        "colab": {
          "base_uri": "https://localhost:8080/"
        },
        "id": "based-draft",
        "outputId": "6ca80ab7-7af0-4171-82d4-af2d703b95ac"
      },
      "source": [
        "tot_null_train = df.isna().sum().sum()\n",
        "tot_null_test = test_df.isna().sum().sum()\n",
        "print('Total null values present in train are: {}'.format(tot_null_train))\n",
        "print('Total null values present in test are: {}'.format(tot_null_test))"
      ],
      "id": "based-draft",
      "execution_count": 542,
      "outputs": [
        {
          "output_type": "stream",
          "text": [
            "Total null values present in train are: 0\n",
            "Total null values present in test are: 0\n"
          ],
          "name": "stdout"
        }
      ]
    },
    {
      "cell_type": "markdown",
      "metadata": {
        "id": "z53G_GIjrTtp"
      },
      "source": [
        "\n",
        "\n",
        "### Feature Encoding"
      ],
      "id": "z53G_GIjrTtp"
    },
    {
      "cell_type": "code",
      "metadata": {
        "id": "communist-geometry"
      },
      "source": [
        "#One_hot encoding nominal variables\n",
        "def one_hot(df,columns,prefixes):\n",
        "    df = df.copy()\n",
        "    for column,prefix in zip(columns,prefixes):\n",
        "        dummies = pd.get_dummies(df[column],prefix=prefix,drop_first=True)\n",
        "        df = pd.concat([df,dummies],axis=1)\n",
        "        df = df.drop(column,axis=1)\n",
        "    return df"
      ],
      "id": "communist-geometry",
      "execution_count": 543,
      "outputs": []
    },
    {
      "cell_type": "code",
      "metadata": {
        "scrolled": true,
        "id": "polyphonic-athletics"
      },
      "source": [
        "nominal_features = ['preferred_offer_types',\n",
        "                    'medium_of_operation', 'internet_option', 'complaint_status','region_category','membership_category']\n",
        "prefixes = ['pref','med','int','comp','reg','mem']\n",
        "\n",
        "df = one_hot(df,nominal_features,prefixes)\n",
        "test_df = one_hot(test_df,nominal_features,prefixes)"
      ],
      "id": "polyphonic-athletics",
      "execution_count": 544,
      "outputs": []
    },
    {
      "cell_type": "code",
      "metadata": {
        "id": "controlling-panama"
      },
      "source": [
        "#Ordinal Encoding\n",
        "def ord_enc(df,col,ord_var):\n",
        "    df = df.copy()\n",
        "    df[col].replace(ord_var,inplace=True)\n",
        "    return df"
      ],
      "id": "controlling-panama",
      "execution_count": 545,
      "outputs": []
    },
    {
      "cell_type": "code",
      "metadata": {
        "id": "driven-inflation"
      },
      "source": [
        "#Encoding Ordinal columns\n",
        "# df['membership_category'].value_counts()\n",
        "mem_ord = {'No Membership':5,'Basic Membership':4,'Silver Membership':3,\n",
        "          'Gold Membership':2,'Premium Membership':1,'Platinum Membership':0}\n",
        "reg_ord = {'Village':2,'Town':1,'City':0}\n",
        "feedback_ord = {'User Friendly Website':0,'Reasonable Price':1,'Products always in Stock':2,'Quality Customer Care':3,\n",
        "               'No reason specified':4,'Poor Customer Service':5,'Poor Product Quality':6,'Poor Website':7,'Too many ads':8}\n",
        "comp_ord = {'Solved':1,'Solved in Follow-up':2,'Not Applicable':3,'No Information Available':4,'Unsolved':5}\n",
        "\n",
        "\n",
        "# df = ord_enc(df,'membership_category',mem_ord)\n",
        "# test_df = ord_enc(test_df,'membership_category',mem_ord)\n",
        "\n",
        "# df = ord_enc(df,'region_category',reg_ord)\n",
        "# test_df = ord_enc(test_df,'region_category',reg_ord)\n",
        "\n",
        "# df = ord_enc(df,'complaint_status',comp_ord)\n",
        "# test_df = ord_enc(test_df,'complaint_status',comp_ord)\n",
        "\n",
        "# df = ord_enc(df,'feedback',feedback_ord)\n",
        "# test_df = ord_enc(test_df,'feedback',feedback_ord)"
      ],
      "id": "driven-inflation",
      "execution_count": 546,
      "outputs": []
    },
    {
      "cell_type": "code",
      "metadata": {
        "id": "q1Yly-aPJ-MU"
      },
      "source": [
        "#Encoding other categorical columns (Labeling)\n",
        "med_lbl = {'Desktop':1,'Smartphone':2,'Both':3}\n",
        "int_lbl = {'Wi-Fi':1,'Mobile_Data':2,'Fiber_Optic':3}\n",
        "offer_lbl = {'Gift Vouchers/Coupons':1,'Credit/Debit Card Offers':2,'Without Offers':3}\n",
        "\n",
        "# df['medium_of_operation'].replace(med_lbl,inplace=True)\n",
        "# test_df['medium_of_operation'].replace(med_lbl,inplace=True)\n",
        "\n",
        "# df['internet_option'].replace(int_lbl,inplace=True)\n",
        "# test_df['internet_option'].replace(int_lbl,inplace=True)\n",
        "\n",
        "# df['preferred_offer_types'].replace(offer_lbl,inplace=True)\n",
        "# test_df['preferred_offer_types'].replace(offer_lbl,inplace=True)"
      ],
      "id": "q1Yly-aPJ-MU",
      "execution_count": 547,
      "outputs": []
    },
    {
      "cell_type": "code",
      "metadata": {
        "scrolled": true,
        "colab": {
          "base_uri": "https://localhost:8080/"
        },
        "id": "baking-douglas",
        "outputId": "ca7deec8-05c2-4ae3-e87b-37c94d41922c"
      },
      "source": [
        "df.select_dtypes('object').columns"
      ],
      "id": "baking-douglas",
      "execution_count": 548,
      "outputs": [
        {
          "output_type": "execute_result",
          "data": {
            "text/plain": [
              "Index(['customer_id', 'Name', 'security_no', 'joining_date', 'referral_id',\n",
              "       'last_visit_time'],\n",
              "      dtype='object')"
            ]
          },
          "metadata": {
            "tags": []
          },
          "execution_count": 548
        }
      ]
    },
    {
      "cell_type": "markdown",
      "metadata": {
        "id": "HZ3cX2HEp4pb"
      },
      "source": [
        "### Feature Generation"
      ],
      "id": "HZ3cX2HEp4pb"
    },
    {
      "cell_type": "code",
      "metadata": {
        "id": "OpkkIW1NQRKJ"
      },
      "source": [
        "# Deriving new feature from the column joining_date\n",
        "df['days_since_joined'] = df['joining_date'].apply(lambda x:(pd.Timestamp('today') - pd.to_datetime(x)).days)\n",
        "test_df['days_since_joined'] = test_df['joining_date'].apply(lambda x:(pd.Timestamp('today') - pd.to_datetime(x)).days)"
      ],
      "id": "OpkkIW1NQRKJ",
      "execution_count": 549,
      "outputs": []
    },
    {
      "cell_type": "code",
      "metadata": {
        "id": "uw5HD57GqWl-"
      },
      "source": [
        "df['avg_transaction_50000'] = np.where(df['avg_transaction_value']>50000,1,0)\n",
        "test_df['avg_transaction_50000'] = np.where(test_df['avg_transaction_value']>50000,1,0)"
      ],
      "id": "uw5HD57GqWl-",
      "execution_count": 550,
      "outputs": []
    },
    {
      "cell_type": "markdown",
      "metadata": {
        "id": "sticky-chester"
      },
      "source": [
        "#### Removing unwanted features from the dataframe\n",
        "1. customer_id\n",
        "2. Name\n",
        "3. security_no\n",
        "4. joining_date\n",
        "5. referral_id\n",
        "6. last_visit_time\n",
        "7. Unnamed: 0"
      ],
      "id": "sticky-chester"
    },
    {
      "cell_type": "code",
      "metadata": {
        "id": "comfortable-digit"
      },
      "source": [
        "df.drop(columns=['customer_id','Name','security_no','joining_date','referral_id','last_visit_time','Unnamed: 0'],inplace=True)\n",
        "test_df.drop(columns=['customer_id','Name','security_no','joining_date','referral_id','last_visit_time','Unnamed: 0'],inplace=True)"
      ],
      "id": "comfortable-digit",
      "execution_count": 551,
      "outputs": []
    },
    {
      "cell_type": "markdown",
      "metadata": {
        "id": "h3NJk_-ho71Q"
      },
      "source": [
        "### Other method (Using KNN) to fill the churn_risk_score missing class indicated by -1 (NaN)"
      ],
      "id": "h3NJk_-ho71Q"
    },
    {
      "cell_type": "code",
      "metadata": {
        "id": "Wl1WRwgeiSGC"
      },
      "source": [
        "# X_churn = df[~df['churn_risk_score'].isna()].drop('churn_risk_score',axis=1)\n",
        "# Y_churn = df[~df['churn_risk_score'].isna()][['churn_risk_score']].astype('int')\n",
        "# testX_churn = df[df['churn_risk_score'].isna()].drop('churn_risk_score',axis=1)\n",
        "# scaler = StandardScaler()\n",
        "\n",
        "# Y_churn.replace({5:0},inplace=True)\n",
        "\n",
        "# # Selecting continous features that needs to be scaled\n",
        "# scale_feat = ['points_in_wallet','avg_transaction_value']\n",
        "# X_churn[scale_feat] = scaler.fit_transform(X_churn[scale_feat])\n",
        "# testX_churn[scale_feat] = scaler.fit_transform(testX_churn[scale_feat])"
      ],
      "id": "Wl1WRwgeiSGC",
      "execution_count": 552,
      "outputs": []
    },
    {
      "cell_type": "code",
      "metadata": {
        "id": "--w8xLpsjSEp"
      },
      "source": [
        "# knn = KNeighborsClassifier(n_neighbors=5)\n",
        "# knn.fit(X_churn,Y_churn)"
      ],
      "id": "--w8xLpsjSEp",
      "execution_count": 553,
      "outputs": []
    },
    {
      "cell_type": "code",
      "metadata": {
        "id": "75QCYzdGj5tf"
      },
      "source": [
        "# pred = knn.predict(testX_churn)"
      ],
      "id": "75QCYzdGj5tf",
      "execution_count": 554,
      "outputs": []
    },
    {
      "cell_type": "code",
      "metadata": {
        "id": "Q5jt6szhkdC4"
      },
      "source": [
        "# from collections import Counter\n",
        "# Counter(pred)"
      ],
      "id": "Q5jt6szhkdC4",
      "execution_count": 555,
      "outputs": []
    },
    {
      "cell_type": "markdown",
      "metadata": {
        "id": "meaningful-serum"
      },
      "source": [
        "## Data splitting/training\n",
        "\n",
        "### Splitting"
      ],
      "id": "meaningful-serum"
    },
    {
      "cell_type": "code",
      "metadata": {
        "id": "hired-jason"
      },
      "source": [
        "X = df.drop(columns=['churn_risk_score'])\n",
        "y = df['churn_risk_score']"
      ],
      "id": "hired-jason",
      "execution_count": 556,
      "outputs": []
    },
    {
      "cell_type": "code",
      "metadata": {
        "id": "controlling-claim"
      },
      "source": [
        "trainX,testX,trainY,testY = train_test_split(X,y,random_state=42,test_size=0.2)"
      ],
      "id": "controlling-claim",
      "execution_count": 557,
      "outputs": []
    },
    {
      "cell_type": "markdown",
      "metadata": {
        "id": "together-minute"
      },
      "source": [
        "### Training"
      ],
      "id": "together-minute"
    },
    {
      "cell_type": "code",
      "metadata": {
        "id": "front-clerk"
      },
      "source": [
        "model_acc_scores = {}\n",
        "def predictionResult(testY,pred,model):\n",
        "    conf_mat = confusion_matrix(testY,pred)\n",
        "    correct = conf_mat[0,0]+conf_mat[1,1]+conf_mat[2,2]+conf_mat[3,3]+conf_mat[4,4]\n",
        "    wrong = conf_mat.sum() - correct\n",
        "    acc_score = accuracy_score(testY,pred)\n",
        "    model_acc_scores[model] = {'correct':correct,'wrong':wrong,\n",
        "                               'accuracy_score':acc_score}\n",
        "    print(\"{} {} {}\".format(\"-\"*20,model,\"-\"*20))\n",
        "    print('Score is: {}'.format(round(f1_score(testY,pred,average='macro')*100,2)))\n",
        "    print(\"Model predicted {} correct and {} wrong\".format(correct,wrong))\n",
        "    print(\"Accuracy Score is: {}%\".format(round(acc_score*100,2)))\n",
        "    print(classification_report(testY,pred))\n",
        "    sns.heatmap(confusion_matrix(testY,pred),annot=True,fmt='d')"
      ],
      "id": "front-clerk",
      "execution_count": 558,
      "outputs": []
    },
    {
      "cell_type": "code",
      "metadata": {
        "scrolled": true,
        "colab": {
          "base_uri": "https://localhost:8080/",
          "height": 1000
        },
        "id": "general-press",
        "outputId": "b955499c-8d1a-48e8-e9ee-b4c39ae0ae0b"
      },
      "source": [
        "model_cat = CatBoostClassifier(learning_rate=0.0001,\n",
        "                               depth=13,\n",
        "                               use_best_model=True,\n",
        "                               iterations=1500,\n",
        "                               verbose=50,\n",
        "                               eval_metric='TotalF1',\n",
        "                               task_type='GPU')\n",
        "model_cat.fit(X,y,eval_set=(testX,testY))\n",
        "\n",
        "pred = model_cat.predict(testX)\n",
        "\n",
        "predictionResult(testY,pred,'CatBoostClassifier')"
      ],
      "id": "general-press",
      "execution_count": 559,
      "outputs": [
        {
          "output_type": "stream",
          "text": [
            "0:\tlearn: 0.7546248\ttest: 0.7522544\tbest: 0.7522544 (0)\ttotal: 268ms\tremaining: 6m 42s\n",
            "50:\tlearn: 0.7559810\ttest: 0.7546333\tbest: 0.7552005 (4)\ttotal: 7.89s\tremaining: 3m 44s\n",
            "100:\tlearn: 0.7564317\ttest: 0.7543981\tbest: 0.7552005 (4)\ttotal: 15.5s\tremaining: 3m 34s\n",
            "150:\tlearn: 0.7562229\ttest: 0.7543295\tbest: 0.7552005 (4)\ttotal: 23.1s\tremaining: 3m 25s\n",
            "200:\tlearn: 0.7562541\ttest: 0.7545091\tbest: 0.7552005 (4)\ttotal: 30.6s\tremaining: 3m 17s\n",
            "250:\tlearn: 0.7563854\ttest: 0.7544537\tbest: 0.7552005 (4)\ttotal: 38.2s\tremaining: 3m 10s\n",
            "300:\tlearn: 0.7563042\ttest: 0.7544537\tbest: 0.7552005 (4)\ttotal: 45.8s\tremaining: 3m 2s\n",
            "400:\tlearn: 0.7564105\ttest: 0.7547575\tbest: 0.7552005 (4)\ttotal: 1m\tremaining: 2m 47s\n",
            "450:\tlearn: 0.7565108\ttest: 0.7549503\tbest: 0.7552005 (4)\ttotal: 1m 8s\tremaining: 2m 39s\n",
            "500:\tlearn: 0.7564253\ttest: 0.7549503\tbest: 0.7552005 (4)\ttotal: 1m 16s\tremaining: 2m 31s\n",
            "550:\tlearn: 0.7563856\ttest: 0.7552541\tbest: 0.7553783 (525)\ttotal: 1m 23s\tremaining: 2m 24s\n",
            "600:\tlearn: 0.7563189\ttest: 0.7550058\tbest: 0.7553783 (525)\ttotal: 1m 31s\tremaining: 2m 16s\n",
            "650:\tlearn: 0.7564858\ttest: 0.7551300\tbest: 0.7553783 (525)\ttotal: 1m 38s\tremaining: 2m 8s\n",
            "700:\tlearn: 0.7566591\ttest: 0.7553783\tbest: 0.7553783 (525)\ttotal: 1m 46s\tremaining: 2m 1s\n",
            "750:\tlearn: 0.7566067\ttest: 0.7552541\tbest: 0.7553783 (525)\ttotal: 1m 53s\tremaining: 1m 53s\n",
            "800:\tlearn: 0.7565670\ttest: 0.7552541\tbest: 0.7553783 (525)\ttotal: 2m 1s\tremaining: 1m 45s\n",
            "850:\tlearn: 0.7567507\ttest: 0.7552541\tbest: 0.7553783 (525)\ttotal: 2m 8s\tremaining: 1m 38s\n",
            "900:\tlearn: 0.7567758\ttest: 0.7552541\tbest: 0.7553783 (525)\ttotal: 2m 16s\tremaining: 1m 30s\n",
            "950:\tlearn: 0.7568405\ttest: 0.7552541\tbest: 0.7553783 (525)\ttotal: 2m 24s\tremaining: 1m 23s\n",
            "1000:\tlearn: 0.7568448\ttest: 0.7552541\tbest: 0.7553783 (525)\ttotal: 2m 31s\tremaining: 1m 15s\n",
            "1050:\tlearn: 0.7568948\ttest: 0.7552541\tbest: 0.7553783 (525)\ttotal: 2m 39s\tremaining: 1m 8s\n",
            "1100:\tlearn: 0.7569637\ttest: 0.7552541\tbest: 0.7553783 (525)\ttotal: 2m 47s\tremaining: 1m\n",
            "1150:\tlearn: 0.7571140\ttest: 0.7555024\tbest: 0.7555024 (1116)\ttotal: 2m 54s\tremaining: 52.9s\n",
            "1200:\tlearn: 0.7570535\ttest: 0.7555024\tbest: 0.7555024 (1116)\ttotal: 3m 2s\tremaining: 45.3s\n",
            "1250:\tlearn: 0.7571140\ttest: 0.7555024\tbest: 0.7555024 (1116)\ttotal: 3m 9s\tremaining: 37.8s\n",
            "1300:\tlearn: 0.7571140\ttest: 0.7555024\tbest: 0.7555024 (1116)\ttotal: 3m 17s\tremaining: 30.2s\n",
            "1350:\tlearn: 0.7571390\ttest: 0.7555024\tbest: 0.7555024 (1116)\ttotal: 3m 24s\tremaining: 22.6s\n",
            "1400:\tlearn: 0.7571036\ttest: 0.7555024\tbest: 0.7555024 (1116)\ttotal: 3m 32s\tremaining: 15s\n",
            "1450:\tlearn: 0.7570681\ttest: 0.7555024\tbest: 0.7555024 (1116)\ttotal: 3m 39s\tremaining: 7.43s\n",
            "1499:\tlearn: 0.7570681\ttest: 0.7555024\tbest: 0.7555024 (1116)\ttotal: 3m 47s\tremaining: 0us\n",
            "bestTest = 0.7555024348\n",
            "bestIteration = 1116\n",
            "Shrink model to first 1117 iterations.\n",
            "-------------------- CatBoostClassifier --------------------\n",
            "Score is: 74.93\n",
            "Model predicted 5681 correct and 1718 wrong\n",
            "Accuracy Score is: 76.78%\n",
            "              precision    recall  f1-score   support\n",
            "\n",
            "           1       0.71      0.72      0.72       742\n",
            "           2       0.99      0.61      0.75       548\n",
            "           3       0.89      0.90      0.89      2087\n",
            "           4       0.78      0.47      0.59      2020\n",
            "           5       0.67      1.00      0.80      2002\n",
            "\n",
            "    accuracy                           0.77      7399\n",
            "   macro avg       0.81      0.74      0.75      7399\n",
            "weighted avg       0.79      0.77      0.76      7399\n",
            "\n"
          ],
          "name": "stdout"
        },
        {
          "output_type": "display_data",
          "data": {
            "image/png": "[encoded data removed]",
            "text/plain": [
              "<Figure size 432x288 with 2 Axes>"
            ]
          },
          "metadata": {
            "tags": [],
            "needs_background": "light"
          }
        }
      ]
    },
    {
      "cell_type": "code",
      "metadata": {
        "id": "changing-master"
      },
      "source": [
        "#For copying customer ID to final output\n",
        "df_test_new = pd.read_csv('./dataset/test1.csv')"
      ],
      "id": "changing-master",
      "execution_count": 560,
      "outputs": []
    },
    {
      "cell_type": "code",
      "metadata": {
        "id": "threatened-oxford"
      },
      "source": [
        "X_submission = test_df\n",
        "final_pred = model_cat.predict(X_submission)\n",
        "final_pred = final_pred.astype('int')"
      ],
      "id": "threatened-oxford",
      "execution_count": 561,
      "outputs": []
    },
    {
      "cell_type": "code",
      "metadata": {
        "colab": {
          "base_uri": "https://localhost:8080/",
          "height": 204
        },
        "id": "ignored-lesson",
        "outputId": "4c19cb24-4c65-4039-bce3-796a136d9093"
      },
      "source": [
        "pred_df = pd.DataFrame(final_pred)\n",
        "final_df = pd.concat([df_test_new['customer_id'],pred_df],axis=1)\n",
        "final_df.columns = ['customer_id','churn_risk_score']\n",
        "final_df.head()"
      ],
      "id": "ignored-lesson",
      "execution_count": 562,
      "outputs": [
        {
          "output_type": "execute_result",
          "data": {
            "text/html": [
              "<div>\n",
              "<style scoped>\n",
              "    .dataframe tbody tr th:only-of-type {\n",
              "        vertical-align: middle;\n",
              "    }\n",
              "\n",
              "    .dataframe tbody tr th {\n",
              "        vertical-align: top;\n",
              "    }\n",
              "\n",
              "    .dataframe thead th {\n",
              "        text-align: right;\n",
              "    }\n",
              "</style>\n",
              "<table border=\"1\" class=\"dataframe\">\n",
              "  <thead>\n",
              "    <tr style=\"text-align: right;\">\n",
              "      <th></th>\n",
              "      <th>customer_id</th>\n",
              "      <th>churn_risk_score</th>\n",
              "    </tr>\n",
              "  </thead>\n",
              "  <tbody>\n",
              "    <tr>\n",
              "      <th>0</th>\n",
              "      <td>fffe43004900440031003700300030003400</td>\n",
              "      <td>3</td>\n",
              "    </tr>\n",
              "    <tr>\n",
              "      <th>1</th>\n",
              "      <td>fffe43004900440031003900370037003300</td>\n",
              "      <td>3</td>\n",
              "    </tr>\n",
              "    <tr>\n",
              "      <th>2</th>\n",
              "      <td>fffe43004900440034003800360037003000</td>\n",
              "      <td>3</td>\n",
              "    </tr>\n",
              "    <tr>\n",
              "      <th>3</th>\n",
              "      <td>fffe43004900440036003200370033003400</td>\n",
              "      <td>3</td>\n",
              "    </tr>\n",
              "    <tr>\n",
              "      <th>4</th>\n",
              "      <td>fffe43004900440035003000370031003900</td>\n",
              "      <td>5</td>\n",
              "    </tr>\n",
              "  </tbody>\n",
              "</table>\n",
              "</div>"
            ],
            "text/plain": [
              "                            customer_id  churn_risk_score\n",
              "0  fffe43004900440031003700300030003400                 3\n",
              "1  fffe43004900440031003900370037003300                 3\n",
              "2  fffe43004900440034003800360037003000                 3\n",
              "3  fffe43004900440036003200370033003400                 3\n",
              "4  fffe43004900440035003000370031003900                 5"
            ]
          },
          "metadata": {
            "tags": []
          },
          "execution_count": 562
        }
      ]
    },
    {
      "cell_type": "code",
      "metadata": {
        "id": "completed-lobby"
      },
      "source": [
        "# Write to csv file\n",
        "final_df.to_csv('final_prediction.csv',index=False)"
      ],
      "id": "completed-lobby",
      "execution_count": 563,
      "outputs": []
    },
    {
      "cell_type": "code",
      "metadata": {
        "colab": {
          "base_uri": "https://localhost:8080/"
        },
        "id": "broken-opera",
        "outputId": "ed66775a-7ba5-4b04-a87c-26066b34399a"
      },
      "source": [
        "final_df['churn_risk_score'].value_counts()"
      ],
      "id": "broken-opera",
      "execution_count": 564,
      "outputs": [
        {
          "output_type": "execute_result",
          "data": {
            "text/plain": [
              "5    7864\n",
              "3    5617\n",
              "4    3428\n",
              "1    2239\n",
              "2     771\n",
              "Name: churn_risk_score, dtype: int64"
            ]
          },
          "metadata": {
            "tags": []
          },
          "execution_count": 564
        }
      ]
    },
    {
      "cell_type": "code",
      "metadata": {
        "id": "competitive-consortium"
      },
      "source": [
        ""
      ],
      "id": "competitive-consortium",
      "execution_count": 564,
      "outputs": []
    }
  ]
}